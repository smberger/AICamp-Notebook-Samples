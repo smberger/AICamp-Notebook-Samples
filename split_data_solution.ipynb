{
 "cells": [
  {
   "cell_type": "markdown",
   "metadata": {
    "collapsed": false
   },
   "source": [
    "# Splitting Data Into Train, Validation, and Test Sets"
   ]
  },
  {
   "cell_type": "markdown",
   "metadata": {
    "collapsed": false
   },
   "source": [
    "### Overview\n",
    "By this point in the project, you should have already retrieved your images from Labelbox and stored them in a directory with their corresponding text files (you should change the constant `IMAGE_FOLDER` to be this). Before we can begin training our object detection model, we will want to split our labeled data into train, validation, and test sets. You will have some freedom on which ratio you use to split, but some commonly used ratios are:\n",
    "* 70% train, 15% valid, 15% test\n",
    "* 80% train, 10% valid, 10% test\n",
    "* 60% train, 20% valid, 20% test\n",
    "\n",
    "Here is the general strategy we are going to use to split our data.\n",
    "1. For each set (train, valid, test) we will do the following:\n",
    "    * Make a directory to store the images (and text files) we assign to that set.\n",
    "    * Make a text file to keep track of all the image paths we assign to that set.\n",
    "2. Produce a list that contains all the text files in `IMAGE_FOLDER`. You will fill in the function called `get_text_files` to accomplish this.\n",
    "3. For each text file in that list, we will do the following:\n",
    "    * Find the image with the same base name (e.g. if we had puppy_1.txt, we might want puppy_1.jpg or puppy_1.png). You will fill in the function called `get_image_file` to accomplish this.\n",
    "    * Copy the text file and image to either the train, valid, or test directory (we will discuss the logic for this later in the notebook). Then, save the image path to either the train, valid, or test text file (same one as the directory you copied image and text file into). You will fill in the function called `assign_to_set` to accomplish this.\n",
    "\n",
    "Note: It may be helpful to check out *Step 4: Putting It All Together* before implementing individual function to see how the above strategy would translate to code."
   ]
  },
  {
   "cell_type": "markdown",
   "metadata": {
    "collapsed": false
   },
   "source": [
    "### Step 1: Import modules and set image folder constant\n",
    "Here, all you need to do is specify the path to the directory where all your images and text files are stored (it should be in your current working directory). As of now, they should all be together in the same directory. By the end of this notebook, we will split them into train, validation, and test sets!"
   ]
  },
  {
   "cell_type": "code",
   "execution_count": 20,
   "metadata": {
    "collapsed": false
   },
   "outputs": [
   ],
   "source": [
    "import shutil, os"
   ]
  },
  {
   "cell_type": "markdown",
   "metadata": {
    "collapsed": false
   },
   "source": [
    "**Important:** For `IMAGE_FOLDER`, we will need the absolute path, not the relative path (the one that uses `./`). To get the absolute path, we will get our current working directory and concatenate that with the name of the directory where our images are stored."
   ]
  },
  {
   "cell_type": "code",
   "execution_count": 21,
   "metadata": {
    "collapsed": false
   },
   "outputs": [
    {
     "name": "stdout",
     "output_type": "stream",
     "text": [
      "Your image directory:  /projects/d3bc3d47-ea68-450a-9811-79d4dfe8d026/shane/img\n"
     ]
    }
   ],
   "source": [
    "cwd = os.getcwd() # Current working directory\n",
    "IMAGE_FOLDER = cwd + '/img' # Directory with images you want to split\n",
    "print('Your image directory: ', IMAGE_FOLDER)"
   ]
  },
  {
   "cell_type": "markdown",
   "metadata": {
    "collapsed": false
   },
   "source": [
    "### Step 2: Complete Functions\n",
    "Once you have specified your `IMAGE_FOLDER`, you are ready for Step 2! As a team, complete the three functions below. Pay special attention to the instructions in the function comment, the parameters being passed into the function, and the requested return value (if any). You can work together or divide and conquer."
   ]
  },
  {
   "cell_type": "markdown",
   "metadata": {
    "collapsed": false
   },
   "source": [
    "*Hint*: You can see if a string ends with a particular suffix using a method called `endswith()`. Try looking it up on Google. It might be helpful for seeing if a filename ends with a particular extension."
   ]
  },
  {
   "cell_type": "code",
   "execution_count": 22,
   "metadata": {
    "collapsed": false
   },
   "outputs": [
   ],
   "source": [
    "def get_text_files(file_list):\n",
    "    '''\n",
    "    Given a list of files, returns a list of files with .txt extension\n",
    "\n",
    "    Parameters\n",
    "    ----------\n",
    "    file_list : list of strings\n",
    "        List where each element is a filename\n",
    "\n",
    "    Returns\n",
    "    -------\n",
    "    text_files : list of strings\n",
    "        List where each element is a filename ending with .txt\n",
    "\n",
    "    >>> file_list = ['aicamp1.jpg', 'aicamp1.txt', 'aicamp2.jpg', 'aicamp2.txt']\n",
    "    >>> get_text_files(file_list)\n",
    "    ['aicamp1.txt', 'aicamp2.txt']\n",
    "    '''\n",
    "    text_files = []\n",
    "    for file in file_list:\n",
    "        if file.endswith('.txt'):\n",
    "            text_files.append(file)\n",
    "    return text_files"
   ]
  },
  {
   "cell_type": "code",
   "execution_count": 23,
   "metadata": {
    "collapsed": false
   },
   "outputs": [
   ],
   "source": [
    "def get_image_file(file_list, text_file):\n",
    "    '''\n",
    "    Given a text file, find image in a list of files with the same base name.\n",
    "\n",
    "    Parameters\n",
    "    ----------\n",
    "    file_list : list of strings\n",
    "        List where each element is a filename\n",
    "    text_file : string\n",
    "        Filename ending with .txt extension\n",
    "\n",
    "    Returns\n",
    "    -------\n",
    "    image_file : string\n",
    "        -Filename ending with .jpg or .png extension\n",
    "        -Should have the same base name as text_file\n",
    "        -There should be a filename that exactly matches in file_list\n",
    "        -Return None if no matching image file is found in file_list\n",
    "\n",
    "    >>> file_list = ['aicamp1.jpg', 'aicamp2.JPG', 'aicamp3.png', 'aicamp4.PNG']\n",
    "    >>> get_image_file(file_list, 'aicamp1.txt')\n",
    "    'aicamp1.jpg'\n",
    "    >>> get_image_file(file_list, 'aicamp2.txt')\n",
    "    'aicamp2.jpg'\n",
    "    >>> get_image_file(file_list, 'aicamp3.txt')\n",
    "    'aicamp3.png'\n",
    "    >>> get_image_file(file_list, 'aicamp4.txt')\n",
    "    'aicamp4.png'\n",
    "    '''\n",
    "    base_name = text_file.split('.')[0]\n",
    "    if base_name + '.jpg' in file_list:\n",
    "        return base_name + '.jpg'\n",
    "    elif base_name + '.JPG' in file_list:\n",
    "        return base_name + '.jpg'\n",
    "    elif base_name + '.png' in file_list:\n",
    "        return base_name + '.png'\n",
    "    elif base_name + '.PNG' in file_list:\n",
    "        return base_name + '.png'\n",
    "    else:\n",
    "        print('No matching image found for', text_file)\n",
    "        return None"
   ]
  },
  {
   "cell_type": "markdown",
   "metadata": {
    "collapsed": false
   },
   "source": [
    "### Logic for assigning data to train, valid, test\n",
    "In the `assign_to_set` function below, we are going to use some logic that involves the Modulo Operator (%) to split the data. As a reminder, the Modulo Operator returns the remainder of a quotient. Let's suppose, for example, that we simply wanted to evenly divide the contents of our `IMAGE_FOLDER` into two directories, A and B. Since we are evenly dividing the data between A and B, we want to randomly assign 50% of the images to A and the other 50% to B. This is where the Modulo Operator comes in! We could do something like this:\n",
    "~~~\n",
    "if index % 2 == 0:\n",
    "    shutil.copy(text_path, 'A')\n",
    "    shutil.copy(image_path, 'A')\n",
    "    a.write(image_path + '\\n') # Here, a is the text file that saves the image paths for set A\n",
    "else:\n",
    "    shutil.copy(text_path, 'B')\n",
    "    shutil.copy(image_path, 'B')\n",
    "    b.write(image_path + '\\n') # Here, b is the text file that saves the image paths for set B\n",
    "~~~\n",
    "Now, using this logic, it's your turn to write the `assign_to_set` function. Keep in mind, you will have three sets (train, valid, test) and they should not be evenly split. So you will have to get creative with that Modulo Operator! Ultimately, you have control over which ratio you use to split as long as it is reasonable, but we recommend the following ratio: **80% train, 10% valid, 10% test.**"
   ]
  },
  {
   "cell_type": "code",
   "execution_count": 24,
   "metadata": {
    "collapsed": false
   },
   "outputs": [
   ],
   "source": [
    "def assign_to_set(text_path, image_path, index):\n",
    "    '''\n",
    "    Given an index, assign image to either train, validation, or test set.\n",
    "    To assign an image to a set, we will need to do the following:\n",
    "        -Make a copy of the text file in the set's directory\n",
    "        -Make a copy of the image in the set's directory\n",
    "        -Write the image path to the set's text file\n",
    "\n",
    "    Parameters\n",
    "    ----------\n",
    "    text_path : string\n",
    "        Path to the text file being assigned\n",
    "    image_path : string\n",
    "        Path to the image being assigned\n",
    "    index : int\n",
    "        Index of the the image being assigned\n",
    "\n",
    "    Returns\n",
    "    -------\n",
    "    None\n",
    "    '''\n",
    "    if index % 10 == 0:\n",
    "        shutil.copy(text_path, 'test_images')\n",
    "        shutil.copy(image_path, 'test_images')\n",
    "        test_file.write(image_path + '\\n')\n",
    "    elif index % 10 == 5:\n",
    "        shutil.copy(text_path, 'valid_images')\n",
    "        shutil.copy(image_path, 'valid_images')\n",
    "        valid_file.write(image_path + '\\n')\n",
    "    else:\n",
    "        shutil.copy(text_path, 'train_images')\n",
    "        shutil.copy(image_path, 'train_images')\n",
    "        train_file.write(image_path + '\\n')"
   ]
  },
  {
   "cell_type": "markdown",
   "metadata": {
    "collapsed": false
   },
   "source": [
    "### Step 3: Test Functions\n",
    "We want to test our functions to make sure our functions are producing the correct values. We will be using doctests to ensure that our functions are producing the correct values. If you have written a function correctly, it will pass its doctests. If a function returns a value that doesn't match the expected value, it will fail the doctest. You should debug any failed doctests before moving on to the final step.\n",
    "\n",
    "**Note**: The function `assign_to_set` doesn't have doctests, so have your instructor check them out before moving on to the final step."
   ]
  },
  {
   "cell_type": "code",
   "execution_count": 25,
   "metadata": {
    "collapsed": false
   },
   "outputs": [
    {
     "data": {
      "text/plain": [
       "TestResults(failed=0, attempted=7)"
      ]
     },
     "execution_count": 25,
     "metadata": {
     },
     "output_type": "execute_result"
    }
   ],
   "source": [
    "import doctest\n",
    "doctest.testmod()"
   ]
  },
  {
   "cell_type": "markdown",
   "metadata": {
    "collapsed": false
   },
   "source": [
    "### Step 4: Putting It All Together\n",
    "Congrats on reaching the final step in the notebook. If everything else has been done correctly, all you need to do for this step is run the cell below. After you run the cell, go check your current working directory. You should see your new train, validation, and test sets organized in their own directories!\n",
    "\n",
    "**Important: We have provided the code for you here, but look it over to make sure you understand it. If you don't, make sure you ask your instructor.**"
   ]
  },
  {
   "cell_type": "code",
   "execution_count": 26,
   "metadata": {
    "collapsed": false
   },
   "outputs": [
    {
     "name": "stdout",
     "output_type": "stream",
     "text": [
      "Training data saved\n",
      "Validation data saved\n",
      "Testing data saved\n"
     ]
    }
   ],
   "source": [
    "# Make directories to store the images (and text files) for each set\n",
    "os.mkdir('train_images')\n",
    "os.mkdir('valid_images')\n",
    "os.mkdir('test_images')\n",
    "\n",
    "# Make text files to save image paths for each set\n",
    "train_file = open('./train_images/train.txt', 'w')\n",
    "valid_file = open('./valid_images/valid.txt', 'w')\n",
    "test_file = open('./test_images/test.txt', 'w')\n",
    "\n",
    "# Get list with all the text files in IMAGE_FOLDER\n",
    "file_list = os.listdir(IMAGE_FOLDER)\n",
    "text_files = get_text_files(file_list)\n",
    "\n",
    "index = 0\n",
    "for text_file in text_files:\n",
    "    image_file = get_image_file(file_list, text_file) # Get matching image for text file\n",
    "    if image_file == None:\n",
    "        continue # Skip if no matching image file found\n",
    "    text_path = IMAGE_FOLDER + '/' + text_file\n",
    "    image_path = IMAGE_FOLDER + '/' + image_file\n",
    "    assign_to_set(text_path, image_path, index)\n",
    "    index += 1\n",
    "\n",
    "# Close train.txt, valid.txt, and test.txt\n",
    "train_file.close()\n",
    "print('Training data saved')\n",
    "valid_file.close()\n",
    "print('Validation data saved')\n",
    "test_file.close()\n",
    "print('Testing data saved')"
   ]
  }
 ],
 "metadata": {
  "kernelspec": {
   "display_name": "Python 3",
   "language": "python",
   "name": "python3"
  },
  "language_info": {
   "codemirror_mode": {
    "name": "ipython",
    "version": 3
   },
   "file_extension": ".py",
   "mimetype": "text/x-python",
   "name": "python",
   "nbconvert_exporter": "python",
   "pygments_lexer": "ipython3",
   "version": "3.6.9"
  }
 },
 "nbformat": 4,
 "nbformat_minor": 4
}