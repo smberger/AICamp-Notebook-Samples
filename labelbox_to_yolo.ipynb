{
 "cells": [
  {
   "cell_type": "markdown",
   "metadata": {},
   "source": [
    "# Formatting Labelbox Data Into Text Files"
   ]
  },
  {
   "cell_type": "markdown",
   "metadata": {},
   "source": [
    "### Overview\n",
    "For each `.jpg` image file that will be used for training there should also be another file with the same name but with `.txt`-extension. In the text file, we should have a separate line for each label associated with the image file where the object number and object coordinates are converted to yolo format. This means if the image has 1 label, the text file will have 1 line. Similarly, if the image has 3 labels, the text file will have 3 lines.\n",
    "\n",
    "A single line in the text file should look like this: `<object-class> <x> <y> <width> <height>`\n",
    "\n",
    "Where:\n",
    "* `<object-class>` - integer number of object from 0 to (classes-1)\n",
    "* `<x>` - float value of the x position of the center of the label relative to the width of the image (between 0.0 and 1.0)\n",
    "* `<y>` - float value of the y position of the center of the label relative to the height of the image (between 0.0 and 1.0)\n",
    "* `<width>` - float value of the width of the label relative to the width of the image (between 0.0 and 1.0)\n",
    "* `<height>` - float value of the height of the label relative to the height of the image (between 0.0 and 1.0)"
   ]
  },
  {
   "cell_type": "markdown",
   "metadata": {},
   "source": [
    "### Step 1: Replace Constants\n",
    "First, we will replace the constants in this notebook so it works for our project! Change the following constants in the code cells below:\n",
    "* `CSV_FILE`: This is the path to your Labelbox CSV\n",
    "* `IMAGE_DIRECTORY`: This is the path to the directory where you want to store your images and text files\n",
    "* `IMAGE_PREFIX`: Prefix to be used for image and text filenames\n",
    "* `LABEL_TO_ID`: Dictionary that maps your objects to an integer ID -- ex: `{'dog': 0, 'cat': 1, 'bird': 2}`"
   ]
  },
  {
   "cell_type": "code",
   "execution_count": 20,
   "metadata": {},
   "outputs": [],
   "source": [
    "# Import necessary packages\n",
    "import pandas as pd\n",
    "import numpy as np\n",
    "import json\n",
    "import urllib.request\n",
    "from PIL import Image"
   ]
  },
  {
   "cell_type": "code",
   "execution_count": 21,
   "metadata": {},
   "outputs": [],
   "source": [
    "# Load the CSV data into a pandas dataframe\n",
    "CSV_FILE = ''\n",
    "labelbox_data = pd.read_csv(CSV_FILE)"
   ]
  },
  {
   "cell_type": "code",
   "execution_count": 22,
   "metadata": {},
   "outputs": [],
   "source": [
    "IMAGE_DIRECTORY = '' # Directory to store images\n",
    "IMAGE_PREFIX = ''"
   ]
  },
  {
   "cell_type": "code",
   "execution_count": 23,
   "metadata": {},
   "outputs": [],
   "source": [
    "# Create a dictionary that maps labels to IDs\n",
    "LABEL_TO_ID = {}"
   ]
  },
  {
   "cell_type": "markdown",
   "metadata": {},
   "source": [
    "### Step 2: Complete Functions\n",
    "Once you have prepared your constants, you are ready for Step 2! As a team, complete the seven functions below. Pay special attention to the instructions in the function comment, the parameters being passed into the function, and the requested return value (if any). You can work together or divide and conquer."
   ]
  },
  {
   "cell_type": "code",
   "execution_count": 24,
   "metadata": {},
   "outputs": [],
   "source": [
    "def save_image(labelbox_data, ind):\n",
    "    '''\n",
    "    Use API to save image at a particular index to the images directory.\n",
    "    Return the path where the image is stored.\n",
    "\n",
    "    Parameters\n",
    "    ----------\n",
    "    labelbox_data : pandas dataframe\n",
    "        Data from the labelbox CSV stored in a pandas dataframe\n",
    "    ind : int\n",
    "        The row index of the image we want to save\n",
    "\n",
    "    Returns\n",
    "    -------\n",
    "    image_path : string\n",
    "        The path where the image is stored\n",
    "    '''\n",
    "    pass"
   ]
  },
  {
   "cell_type": "code",
   "execution_count": 33,
   "metadata": {},
   "outputs": [],
   "source": [
    "def get_object_class(label, LABEL_TO_ID):\n",
    "    '''\n",
    "    Gets integer value of object class from 0 to (classes-1)\n",
    "\n",
    "    Parameters\n",
    "    ----------\n",
    "    label : dictionary\n",
    "        Dictionary containing the label data\n",
    "\n",
    "    Returns\n",
    "    -------\n",
    "    object_class : int\n",
    "        ID of object class (should be between 0 and classes-1)\n",
    "\n",
    "    >>> label = {\"title\": \"A\"}\n",
    "    >>> LABEL_TO_ID = {\"A\": 1000, \"B\": 1, \"C\": 2}\n",
    "    >>> get_object_class(label, LABEL_TO_ID)\n",
    "    1000\n",
    "    '''\n",
    "    pass"
   ]
  },
  {
   "cell_type": "code",
   "execution_count": 16,
   "metadata": {},
   "outputs": [],
   "source": [
    "def get_relative_x(label, image_width):\n",
    "    '''\n",
    "    Gets x position of the center of the label relative to the width of the image\n",
    "\n",
    "    Parameters\n",
    "    ----------\n",
    "    label : dictionary\n",
    "        Dictionary containing the label data\n",
    "    image_width: int\n",
    "        Width of the image\n",
    "\n",
    "    Returns\n",
    "    -------\n",
    "    x_pos : float\n",
    "        x position of the center of the label relative to the width of the image\n",
    "\n",
    "    >>> label = {\"bbox\": {\"top\": 50, \"left\": 100, \"height\": 200 , \"width\": 400}}\n",
    "    >>> image_width = 1000\n",
    "    >>> get_relative_x(label, image_width)\n",
    "    0.3\n",
    "    '''\n",
    "    pass"
   ]
  },
  {
   "cell_type": "code",
   "execution_count": 25,
   "metadata": {},
   "outputs": [],
   "source": [
    "def get_relative_y(label, image_height):\n",
    "    '''\n",
    "    Gets y position of the center of the label relative to the height of the image\n",
    "\n",
    "    Parameters\n",
    "    ----------\n",
    "    label : dictionary\n",
    "        Dictionary containing the label data\n",
    "    image_height: int\n",
    "        Height of the image\n",
    "\n",
    "    Returns\n",
    "    -------\n",
    "    y_pos : float\n",
    "        y position of the center of the label relative to the height of the image\n",
    "\n",
    "    >>> label = {\"bbox\": {\"top\": 50, \"left\": 100, \"height\": 200 , \"width\": 400}}\n",
    "    >>> image_height = 1000\n",
    "    >>> get_relative_y(label, image_height)\n",
    "    0.15\n",
    "    '''\n",
    "    pass"
   ]
  },
  {
   "cell_type": "code",
   "execution_count": 18,
   "metadata": {},
   "outputs": [],
   "source": [
    "def get_relative_width(label, image_width):\n",
    "    '''\n",
    "    Gets width of the label relative to the width of the image\n",
    "\n",
    "    Parameters\n",
    "    ----------\n",
    "    label : dictionary\n",
    "        Dictionary containing the label data\n",
    "    image_width: int\n",
    "        Width of the image\n",
    "\n",
    "    Returns\n",
    "    -------\n",
    "    width : float\n",
    "        Width of the label relative to the width of the image\n",
    "\n",
    "    >>> label = {\"bbox\": {\"top\": 50, \"left\": 100, \"height\": 200 , \"width\": 400}}\n",
    "    >>> image_width = 1000\n",
    "    >>> get_relative_width(label, image_width)\n",
    "    0.4\n",
    "    '''\n",
    "    pass"
   ]
  },
  {
   "cell_type": "code",
   "execution_count": 23,
   "metadata": {},
   "outputs": [],
   "source": [
    "def get_relative_height(label, image_height):\n",
    "    '''\n",
    "    Gets height of the label relative to the height of the image\n",
    "\n",
    "    Parameters\n",
    "    ----------\n",
    "    label : dictionary\n",
    "        Dictionary containing the label data\n",
    "    image_height: int\n",
    "        Height of the image\n",
    "\n",
    "    Returns\n",
    "    -------\n",
    "    height : float\n",
    "        Height of the label relative to the height of the image\n",
    "\n",
    "    >>> label = {\"bbox\": {\"top\": 50, \"left\": 100, \"height\": 200 , \"width\": 400}}\n",
    "    >>> image_height = 1000\n",
    "    >>> get_relative_height(label, image_height)\n",
    "    0.2\n",
    "    '''\n",
    "    pass"
   ]
  },
  {
   "cell_type": "code",
   "execution_count": 20,
   "metadata": {},
   "outputs": [],
   "source": [
    "def write_yolo_label(object_class, x, y, width, height):\n",
    "    '''\n",
    "    Write Labelbox data in YOLO format to a txt file.\n",
    "    YOLO format reminder: <object_class> <x> <y> <width> <height>\n",
    "\n",
    "    Parameters\n",
    "    ----------\n",
    "    object_class : int\n",
    "        Integer number of object from 0 to (classes-1)\n",
    "    x: float\n",
    "        x position of the center of the label relative to the width of the image\n",
    "    y: float\n",
    "        y position of the center of the label relative to the height of the image\n",
    "    width: float\n",
    "        Width of the label relative to the width of the image\n",
    "    height: float\n",
    "        Height of the label relative to the height of the image\n",
    "\n",
    "    Returns\n",
    "    -------\n",
    "    None\n",
    "    '''\n",
    "    pass"
   ]
  },
  {
   "cell_type": "markdown",
   "metadata": {},
   "source": [
    "### Step 3: Test Functions\n",
    "We want to test our functions to make sure our functions are producing the correct values. We will be using doctests to ensure that our functions are producing the correct values. If you have written a function correctly, it will pass its doctests. If a function returns a value that doesn't match the expected value, it will fail the doctest. You should debug any failed doctests before moving on to the final step.\n",
    "\n",
    "**Note**: The functions `save_image` and `write_yolo_label` don't have doctests, so have your instructor check them out before moving on to the final step."
   ]
  },
  {
   "cell_type": "code",
   "execution_count": 31,
   "metadata": {},
   "outputs": [
    {
     "data": {
      "text/plain": [
       "TestResults(failed=0, attempted=15)"
      ]
     },
     "execution_count": 31,
     "metadata": {},
     "output_type": "execute_result"
    }
   ],
   "source": [
    "import doctest\n",
    "doctest.testmod()"
   ]
  },
  {
   "cell_type": "markdown",
   "metadata": {},
   "source": [
    "### Step 4: Putting It All Together\n",
    "Congrats on reaching the final step in the notebook. If everything else has been done correctly, all you need to do for this step is run the cell below. After you run the cell, go check your `IMAGE_DIRECTORY` directory. You should see your images and text files being saved there!\n",
    "\n",
    "**Important: We have provided the code for you here, but look it over to make sure you understand it. If you don't, make sure you ask your instructor.**"
   ]
  },
  {
   "cell_type": "code",
   "execution_count": 33,
   "metadata": {
    "scrolled": true
   },
   "outputs": [],
   "source": [
    "# Loop through each image in the Labelbox CSV data\n",
    "for ind in labelbox_data.index:\n",
    "\n",
    "    # Extract the label info from a single image (at index ind)\n",
    "    try:\n",
    "        label_json = json.loads(labelbox_data['Label'][ind])\n",
    "        if label_json == {}: continue # Skipped labels\n",
    "    except:\n",
    "        continue\n",
    "\n",
    "    # Save the image to your images directory\n",
    "    image_path = save_image(labelbox_data, ind)\n",
    "    image = Image.open(image_path)\n",
    "    image_width, image_height = image.size\n",
    "\n",
    "    # Open txt file\n",
    "    text = open(IMAGE_DIRECTORY + IMAGE_PREFIX + str(ind) + '.txt', 'a+')\n",
    "\n",
    "    # Loop through each label in the image\n",
    "    for label in label_json['objects']:\n",
    "\n",
    "        # Get necessary components for the text file\n",
    "        object_class = get_object_class(label, LABEL_TO_ID)\n",
    "        x = get_relative_x(label, image_width)\n",
    "        y = get_relative_y(label, image_height)\n",
    "        width = get_relative_width(label, image_width)\n",
    "        height = get_relative_height(label, image_height)\n",
    "\n",
    "        # Write the Labelbox data to the text file\n",
    "        write_yolo_label(object_class, x, y, width, height)\n",
    "\n",
    "    # Close txt file\n",
    "    text.close()"
   ]
  }
 ],
 "metadata": {
  "kernelspec": {
   "display_name": "Python 3",
   "language": "python",
   "name": "python3"
  },
  "language_info": {
   "codemirror_mode": {
    "name": "ipython",
    "version": 3
   },
   "file_extension": ".py",
   "mimetype": "text/x-python",
   "name": "python",
   "nbconvert_exporter": "python",
   "pygments_lexer": "ipython3",
   "version": "3.7.4"
  }
 },
 "nbformat": 4,
 "nbformat_minor": 4
}
